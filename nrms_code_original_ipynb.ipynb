{
  "cells": [
    {
      "cell_type": "markdown",
      "metadata": {
        "id": "WIwDQycPOi-U"
      },
      "source": [
        "# **Setting up for Colab**"
      ]
    },
    {
      "cell_type": "code",
      "execution_count": null,
      "metadata": {
        "colab": {
          "base_uri": "https://localhost:8080/"
        },
        "id": "rQA1IICdOiE3",
        "outputId": "9982a130-c3e3-430e-e147-b8e70abd1881"
      },
      "outputs": [
        {
          "output_type": "stream",
          "name": "stdout",
          "text": [
            "Current working directory: /content/drive/MyDrive/EB_project/ebnerd-benchmark-main/src\n"
          ]
        }
      ],
      "source": [
        "from google.colab import drive\n",
        "drive.mount('/content/drive/')\n",
        "import os\n",
        "import pandas as pd\n",
        "from pathlib import Path\n",
        "\n",
        "\n",
        "# Define projectfolder\n",
        "eb_main = '/content/drive/MyDrive/EB_project/ebnerd-benchmark-main/src'\n",
        "\n",
        "\n",
        "# Change project folder\n",
        "os.chdir(eb_main)\n",
        "print(\"Current working directory:\", os.getcwd())\n",
        "\n"
      ]
    },
    {
      "cell_type": "markdown",
      "metadata": {
        "id": "D7F-on29DA-3"
      },
      "source": [
        "# **Import**\n",
        "\n"
      ]
    },
    {
      "cell_type": "code",
      "execution_count": null,
      "metadata": {
        "id": "K8lsNMNpL-hn"
      },
      "outputs": [],
      "source": [
        "from transformers import AutoTokenizer, AutoModel\n",
        "from pathlib import Path\n",
        "import tensorflow as tf\n",
        "import polars as pl\n",
        "\n",
        "from ebrec.utils._constants import (\n",
        "    DEFAULT_HISTORY_ARTICLE_ID_COL,\n",
        "    DEFAULT_CLICKED_ARTICLES_COL,\n",
        "    DEFAULT_INVIEW_ARTICLES_COL,\n",
        "    DEFAULT_IMPRESSION_ID_COL,\n",
        "    DEFAULT_SUBTITLE_COL,\n",
        "    DEFAULT_LABELS_COL,\n",
        "    DEFAULT_TITLE_COL,\n",
        "    DEFAULT_USER_COL,\n",
        "    DEFAULT_IMPRESSION_TIMESTAMP_COL,\n",
        ")\n",
        "\n",
        "from ebrec.utils._behaviors import (\n",
        "    create_binary_labels_column,\n",
        "    sampling_strategy_wu2019,\n",
        "    add_known_user_column,\n",
        "    add_prediction_scores,\n",
        "    truncate_history,\n",
        ")\n",
        "\n",
        "from ebrec.evaluation import MetricEvaluator, AucScore, NdcgScore, MrrScore, F1Score\n",
        "from ebrec.utils._articles import convert_text2encoding_with_transformers\n",
        "from ebrec.utils._polars import concat_str_columns, slice_join_dataframes\n",
        "from ebrec.utils._articles import create_article_id_to_value_mapping\n",
        "from ebrec.utils._nlp import get_transformers_word_embeddings\n",
        "from ebrec.utils._python import write_submission_file, rank_predictions_by_score\n",
        "\n",
        "from ebrec.models.newsrec.dataloader import NRMSDataLoader\n",
        "from ebrec.models.newsrec.model_config import hparams_nrms\n",
        "# from ebrec.models.newsrec.nrms_pytorch import NRMSModel"
      ]
    },
    {
      "cell_type": "markdown",
      "metadata": {
        "id": "HghuUVt0L-hp"
      },
      "source": [
        "## Load dataset"
      ]
    },
    {
      "cell_type": "code",
      "execution_count": null,
      "metadata": {
        "id": "wDQeSqmDL-hp"
      },
      "outputs": [],
      "source": [
        "def ebnerd_from_path(path: Path, history_size: int = 30, padding: int = 0,) -> pl.DataFrame:\n",
        "    \"\"\"\n",
        "    Load ebnerd - function\n",
        "    \"\"\"\n",
        "    df_history = (\n",
        "        pl.scan_parquet(path.joinpath(\"history.parquet\"))\n",
        "        .select(DEFAULT_USER_COL, DEFAULT_HISTORY_ARTICLE_ID_COL)\n",
        "        .pipe(\n",
        "            truncate_history,\n",
        "            column=DEFAULT_HISTORY_ARTICLE_ID_COL,\n",
        "            history_size=history_size,\n",
        "            padding_value=0,\n",
        "            enable_warning=False,\n",
        "        )\n",
        "    )\n",
        "    df_behaviors = (\n",
        "        pl.scan_parquet(path.joinpath(\"behaviors.parquet\"))\n",
        "        .collect()\n",
        "        .pipe(\n",
        "            slice_join_dataframes,\n",
        "            df2=df_history.collect(),\n",
        "            on=DEFAULT_USER_COL,\n",
        "            how=\"left\",\n",
        "        )\n",
        "    )\n",
        "    return df_behaviors"
      ]
    },
    {
      "cell_type": "markdown",
      "metadata": {
        "id": "6ltmVooKL-hq"
      },
      "source": [
        "# **Making folder for the model**"
      ]
    },
    {
      "cell_type": "code",
      "execution_count": null,
      "metadata": {
        "colab": {
          "base_uri": "https://localhost:8080/"
        },
        "id": "YK49jLzaL-hq",
        "outputId": "21731317-fb45-48b3-9958-067ebae35be3"
      },
      "outputs": [
        {
          "output_type": "stream",
          "name": "stdout",
          "text": [
            "PATH: /content/drive/MyDrive/EB_project\n",
            "DUMP_DIR: /content/drive/MyDrive/EB_project/dump_artifacts\n"
          ]
        }
      ],
      "source": [
        "from pathlib import Path\n",
        "\n",
        "PATH = Path(\"/content/drive/MyDrive/EB_project\").expanduser()\n",
        "\n",
        "# Datasplit-folder\n",
        "DATASPLIT = \"ebnerd_small\"\n",
        "\n",
        "DUMP_DIR = PATH.joinpath(\"dump_artifacts\")\n",
        "DUMP_DIR.mkdir(exist_ok=True, parents=True)\n",
        "\n",
        "print(f\"PATH: {PATH}\")\n",
        "print(f\"DUMP_DIR: {DUMP_DIR}\")\n"
      ]
    },
    {
      "cell_type": "markdown",
      "metadata": {
        "id": "6nUcW-nkL-hr"
      },
      "source": [
        "# **Load dataset**"
      ]
    },
    {
      "cell_type": "code",
      "execution_count": null,
      "metadata": {
        "id": "0oYC1GbXL-hr"
      },
      "outputs": [],
      "source": [
        "COLUMNS = [\n",
        "    DEFAULT_USER_COL,\n",
        "    DEFAULT_IMPRESSION_ID_COL,\n",
        "    DEFAULT_IMPRESSION_TIMESTAMP_COL,\n",
        "    DEFAULT_HISTORY_ARTICLE_ID_COL,\n",
        "    DEFAULT_CLICKED_ARTICLES_COL,\n",
        "    DEFAULT_INVIEW_ARTICLES_COL,\n",
        "]\n",
        "HISTORY_SIZE = 20\n",
        "FRACTION = 1\n",
        "\n",
        "\n",
        "import datetime\n",
        "df = (\n",
        "    ebnerd_from_path(\n",
        "        PATH.joinpath(DATASPLIT, \"train\"), history_size=HISTORY_SIZE,\n",
        "        padding=0,\n",
        "    )\n",
        "    .select(COLUMNS)\n",
        "    .pipe(\n",
        "        sampling_strategy_wu2019,\n",
        "        npratio=4,\n",
        "        shuffle=True,\n",
        "        with_replacement=True,\n",
        "        seed=123,\n",
        "    )\n",
        "    .pipe(create_binary_labels_column)\n",
        "    .sample(fraction=FRACTION, seed=123) # Ensure consistent fraction sampling\n",
        ")\n",
        "dt_split = pl.col(DEFAULT_IMPRESSION_TIMESTAMP_COL).max() - datetime.timedelta(days=1)\n",
        "df_train = df.filter(pl.col(DEFAULT_IMPRESSION_TIMESTAMP_COL) < dt_split)\n",
        "df_validation = df.filter(pl.col(DEFAULT_IMPRESSION_TIMESTAMP_COL) >= dt_split)\n"
      ]
    },
    {
      "cell_type": "markdown",
      "source": [
        "## **Numbers of users used for the training loop**"
      ],
      "metadata": {
        "id": "G7B0OgnRSbap"
      }
    },
    {
      "cell_type": "code",
      "source": [
        "print(\"Train:\",len(df_train))\n",
        "print(\"Validation:\",len(df_validation))\n",
        "print(\"Total:\",len(df_train)+len(df_validation))"
      ],
      "metadata": {
        "colab": {
          "base_uri": "https://localhost:8080/"
        },
        "id": "OPcjppLWV01F",
        "outputId": "8c88345a-cd0b-4b1a-a2f6-a7e2077f2fc7"
      },
      "execution_count": null,
      "outputs": [
        {
          "output_type": "stream",
          "name": "stdout",
          "text": [
            "Train: 201537\n",
            "Validation: 32740\n",
            "Total: 234277\n"
          ]
        }
      ]
    },
    {
      "cell_type": "markdown",
      "metadata": {
        "id": "5-QMn7TiL-hr"
      },
      "source": [
        "# **Load articles**"
      ]
    },
    {
      "cell_type": "code",
      "execution_count": null,
      "metadata": {
        "colab": {
          "base_uri": "https://localhost:8080/"
        },
        "id": "ijKg_l-zL-hr",
        "outputId": "bcd61c3b-e083-413f-f6e4-534e97398b3e"
      },
      "outputs": [
        {
          "output_type": "stream",
          "name": "stdout",
          "text": [
            "Articles: 20738\n"
          ]
        }
      ],
      "source": [
        "df_articles = pl.read_parquet(PATH.joinpath(DATASPLIT,\"articles.parquet\"))\n",
        "print(\"Articles:\", len(df_articles))"
      ]
    },
    {
      "cell_type": "markdown",
      "metadata": {
        "id": "2q5HnhD0YQRi"
      },
      "source": [
        "# **Preprocessing subtitle**"
      ]
    },
    {
      "cell_type": "code",
      "execution_count": null,
      "metadata": {
        "id": "SahgtpvcYOb1"
      },
      "outputs": [],
      "source": [
        "pre_proc = '/content/drive/MyDrive/EB_project/ebnerd-benchmark-main/examples/00_quick_start'\n",
        "os.chdir(pre_proc)\n",
        "\n",
        "from preproc_pred import clean_text_column\n",
        "\n",
        "\n",
        "# Convert subtitle column to a list, clean it, and add it back\n",
        "cleaned_subtitles = df_articles[\"subtitle\"].to_list()\n",
        "cleaned_subtitles = [clean_text_column(text) for text in cleaned_subtitles]\n",
        "\n",
        "# Add the cleaned subtitles as a new column\n",
        "df_articles = df_articles.with_columns(\n",
        "    pl.Series(\"subtitle_cleaned\", cleaned_subtitles)\n",
        ")\n"
      ]
    },
    {
      "cell_type": "markdown",
      "metadata": {
        "id": "86gB-KNPwdJm"
      },
      "source": [
        "#**Load LLM**"
      ]
    },
    {
      "cell_type": "markdown",
      "source": [
        "## **ROBERTa** (Use Roberta if you want to run a new training loop)"
      ],
      "metadata": {
        "id": "sfZQFUe8dAHW"
      }
    },
    {
      "cell_type": "code",
      "execution_count": null,
      "metadata": {
        "id": "tge_A4DUCB1o"
      },
      "outputs": [],
      "source": [
        "# Load model\n",
        "from transformers import AutoTokenizer, AutoModelForMaskedLM\n",
        "\n",
        "TRANSFORMER_MODEL_NAME = \"FacebookAI/xlm-roberta-base\"\n",
        "\n",
        "\n",
        "# LOAD HUGGINGFACE:\n",
        "transformer_model = AutoModel.from_pretrained(TRANSFORMER_MODEL_NAME)\n",
        "transformer_tokenizer = AutoTokenizer.from_pretrained(TRANSFORMER_MODEL_NAME)\n",
        "\n",
        "\n",
        "\n",
        "TEXT_COLUMNS_TO_USE = [\"title\", \"subtitle_cleaned\"]\n",
        "MAX_TITLE_LENGTH = 20\n",
        "\n",
        "word2vec_embedding = get_transformers_word_embeddings(transformer_model)\n",
        "\n",
        "df_articles, cat_cal = concat_str_columns(df_articles, columns=TEXT_COLUMNS_TO_USE)\n",
        "df_articles, token_col_title = convert_text2encoding_with_transformers(\n",
        "    df_articles, transformer_tokenizer, cat_cal, max_length=MAX_TITLE_LENGTH\n",
        ")\n",
        "# =>\n",
        "article_mapping = create_article_id_to_value_mapping(\n",
        "    df=df_articles, value_col=token_col_title\n",
        ")\n"
      ]
    },
    {
      "cell_type": "markdown",
      "metadata": {
        "id": "qR7IUoFB_bmB"
      },
      "source": [
        "## **Glove embeddings** (This part should not be executed )"
      ]
    },
    {
      "cell_type": "code",
      "execution_count": null,
      "metadata": {
        "colab": {
          "base_uri": "https://localhost:8080/",
          "height": 190,
          "referenced_widgets": [
            "3086391eac7642dabf688693c44002a4",
            "03414d2b65ed466491f97bd88d029a50",
            "adb3bef105d3455c93fbc1db7d5e9d5c",
            "2120ef4d3a384c0088267390e934943c",
            "56a6e0e0e833423aaf38700a5667544c",
            "20977750e04b44c299fbba6ba794e4c9",
            "5d7ac7fc46964dcbb7f3e6e1a84119f9",
            "e2d9bf4f74c1424386102056dc9a4672",
            "84e1028745924af29e79f1c4611a77fc",
            "51a66f724fbe47669e04de2c820327ce",
            "759b4062c58d466389129e6e82523736"
          ]
        },
        "id": "-R2he_Wq5nyI",
        "outputId": "1e321a72-04c3-403c-e8b7-38003664e71a"
      },
      "outputs": [
        {
          "name": "stderr",
          "output_type": "stream",
          "text": [
            "/usr/local/lib/python3.10/dist-packages/huggingface_hub/utils/_auth.py:94: UserWarning: \n",
            "The secret `HF_TOKEN` does not exist in your Colab secrets.\n",
            "To authenticate with the Hugging Face Hub, create a token in your settings tab (https://huggingface.co/settings/tokens), set it as secret in your Google Colab and restart your session.\n",
            "You will be able to reuse this secret in all of your notebooks.\n",
            "Please note that authentication is recommended but still optional to access public models or datasets.\n",
            "  warnings.warn(\n"
          ]
        },
        {
          "data": {
            "application/vnd.jupyter.widget-view+json": {
              "model_id": "3086391eac7642dabf688693c44002a4",
              "version_major": 2,
              "version_minor": 0
            },
            "text/plain": [
              "glove.6B.zip:   0%|          | 0.00/862M [00:00<?, ?B/s]"
            ]
          },
          "metadata": {},
          "output_type": "display_data"
        },
        {
          "name": "stderr",
          "output_type": "stream",
          "text": [
            "Parsing glove.6B.300d.txt...: 100%|██████████| 400001/400001 [00:47<00:00, 8426.48it/s]\n"
          ]
        }
      ],
      "source": [
        "import torch\n",
        "from tokenizers import Tokenizer, normalizers, pre_tokenizers, models\n",
        "from pathlib import Path\n",
        "from huggingface_hub import hf_hub_download\n",
        "import zipfile\n",
        "from tqdm import tqdm\n",
        "from typing import Tuple, List\n",
        "import numpy as np\n",
        "\n",
        "# Funktion til at loade GloVe-vectors\n",
        "def load_glove_vectors(filename=\"glove.6B.300d.txt\") -> Tuple[List[str], torch.Tensor]:\n",
        "    \"\"\"Load the GloVe vectors. See: `https://github.com/stanfordnlp/GloVe`\"\"\"\n",
        "    path = Path(hf_hub_download(repo_id=\"stanfordnlp/glove\", filename=\"glove.6B.zip\"))\n",
        "    target_file = path.parent / filename\n",
        "    if not target_file.exists():\n",
        "        with zipfile.ZipFile(path, 'r') as zip_ref:\n",
        "            zip_ref.extractall(path.parent)\n",
        "\n",
        "        if not target_file.exists():\n",
        "            print(f\"Available files:\")\n",
        "            for p in path.parent.iterdir():\n",
        "                print(p)\n",
        "            raise ValueError(f\"Target file `{target_file.name}` can't be found. Check if `{filename}` was properly downloaded.\")\n",
        "\n",
        "    # Parse vocabulary and vectors\n",
        "    vocabulary = []\n",
        "    vectors = []\n",
        "    with open(target_file, \"r\", encoding=\"utf8\") as f:\n",
        "        for l in tqdm(f.readlines(), desc=f\"Parsing {target_file.name}...\"):\n",
        "            word, *vector = l.split()\n",
        "            vocabulary.append(word)\n",
        "            vectors.append(torch.tensor([float(v) for v in vector]))\n",
        "    vectors = torch.stack(vectors)\n",
        "    return vocabulary, vectors\n",
        "\n",
        "# Indlæs GloVe-data\n",
        "glove_vocabulary, glove_vectors = load_glove_vectors()\n",
        "\n",
        "# Tilføj special tokens\n",
        "special_tokens = ['<|start|>', '<|unknown|>', '<|pad|>']\n",
        "glove_vocabulary = special_tokens + glove_vocabulary\n",
        "special_vectors = torch.randn((len(special_tokens), glove_vectors.shape[1]))  # Tilføj tilfældige vektorer for special tokens\n",
        "glove_vectors = torch.cat([special_vectors, glove_vectors])\n",
        "\n",
        "# GloVe-tokenizer\n",
        "glove_tokenizer = Tokenizer(models.WordLevel(vocab={v: i for i, v in enumerate(glove_vocabulary)}, unk_token=\"<|unknown|>\"))\n",
        "glove_tokenizer.normalizer = normalizers.BertNormalizer(strip_accents=False)\n",
        "glove_tokenizer.pre_tokenizer = pre_tokenizers.Whitespace()\n",
        "\n",
        "\n"
      ]
    },
    {
      "cell_type": "code",
      "execution_count": null,
      "metadata": {
        "id": "uu4lAUWiW-Oh"
      },
      "outputs": [],
      "source": [
        "class GloveTokenizerWrapper:\n",
        "    def __init__(self, glove_tokenizer, name_or_path=\"glove_tokenizer\"):\n",
        "        self.glove_tokenizer = glove_tokenizer\n",
        "        self.name_or_path = name_or_path\n",
        "\n",
        "    def __call__(self, text, add_special_tokens=False, padding=False, max_length=None, truncation=False):\n",
        "        # Encode teksten\n",
        "        if isinstance(text, str):\n",
        "            text = [text]  # Sørg for, at det er en liste\n",
        "\n",
        "        # Tokenize batch\n",
        "        encoded = self.glove_tokenizer.encode_batch(text)\n",
        "        token_ids = [e.ids for e in encoded]\n",
        "\n",
        "        # Håndtering af truncation og padding\n",
        "        if truncation or padding:\n",
        "            token_ids = [\n",
        "                tokens[:max_length] + [0] * max(0, max_length - len(tokens))\n",
        "                if max_length else tokens\n",
        "                for tokens in token_ids\n",
        "            ]\n",
        "\n",
        "        # Returnér som et dict for at matche transformers-output\n",
        "        return {\"input_ids\": token_ids}\n",
        "\n",
        "wrapped_glove_tokenizer = GloveTokenizerWrapper(glove_tokenizer)"
      ]
    },
    {
      "cell_type": "code",
      "execution_count": null,
      "metadata": {
        "colab": {
          "base_uri": "https://localhost:8080/"
        },
        "id": "M47c_I47TmY9",
        "outputId": "764c7457-d1d8-4fa3-c334-43afb443f5c3"
      },
      "outputs": [
        {
          "name": "stdout",
          "output_type": "stream",
          "text": [
            "Tokenizer vocab size: 400004\n",
            "Word2Vec embedding shape: (400004, 300)\n"
          ]
        }
      ],
      "source": [
        "\n",
        "TEXT_COLUMNS_TO_USE = [\"title\", \"subtitle_cleaned\"]\n",
        "MAX_TITLE_LENGTH = 30\n",
        "# We'll init the word embeddings using the\n",
        "# Konverter embeddings til numpy\n",
        "word2vec_embedding = glove_vectors.numpy()\n",
        "df_articles, cat_cal = concat_str_columns(df_articles, columns=TEXT_COLUMNS_TO_USE)\n",
        "\n",
        "\n",
        "df_articles, token_col_title = convert_text2encoding_with_transformers(\n",
        "    df_articles, wrapped_glove_tokenizer, cat_cal, max_length=MAX_TITLE_LENGTH\n",
        ")\n",
        "# =>\n",
        "article_mapping = create_article_id_to_value_mapping(\n",
        "    df=df_articles, value_col=token_col_title\n",
        ")\n",
        "\n",
        "\n",
        "\n",
        "# Udskriv kompatibelt output\n",
        "print(f\"Tokenizer vocab size: {len(glove_vocabulary)}\")\n",
        "print(f\"Word2Vec embedding shape: {word2vec_embedding.shape}\")"
      ]
    },
    {
      "cell_type": "code",
      "execution_count": null,
      "metadata": {
        "colab": {
          "base_uri": "https://localhost:8080/",
          "height": 35
        },
        "id": "e2MmQDcvXw7e",
        "outputId": "f03d4861-e72b-4b87-badb-ba98afc9f671"
      },
      "outputs": [
        {
          "data": {
            "application/vnd.google.colaboratory.intrinsic+json": {
              "type": "string"
            },
            "text/plain": [
              "'word = \"king\"  # Eksempelord\\nif word in glove_vocabulary:\\n    idx = glove_vocabulary.index(word)\\n    print(f\"Embedding for \\'{word}\\': {word2vec_embedding[idx]}\")\\nelse:\\n    print(f\"\\'{word}\\' findes ikke i ordforrådet.\")\\n'"
            ]
          },
          "execution_count": 29,
          "metadata": {},
          "output_type": "execute_result"
        }
      ],
      "source": [
        "'''word = \"king\"  # Eksempelord\n",
        "if word in glove_vocabulary:\n",
        "    idx = glove_vocabulary.index(word)\n",
        "    print(f\"Embedding for '{word}': {word2vec_embedding[idx]}\")\n",
        "else:\n",
        "    print(f\"'{word}' findes ikke i ordforrådet.\")\n",
        "'''"
      ]
    },
    {
      "cell_type": "code",
      "execution_count": null,
      "metadata": {
        "colab": {
          "base_uri": "https://localhost:8080/"
        },
        "id": "t8vJwEMOdIxc",
        "outputId": "e66d7a42-48b5-42f4-aab8-3c6120db959f"
      },
      "outputs": [
        {
          "name": "stdout",
          "output_type": "stream",
          "text": [
            "Shape of embeddings: (400004, 300)\n"
          ]
        }
      ],
      "source": [
        "print(\"Shape of embeddings:\", word2vec_embedding.shape)\n"
      ]
    },
    {
      "cell_type": "markdown",
      "metadata": {
        "id": "b_vu2REPL-ht"
      },
      "source": [
        "# **Initiate the dataloaders**\n"
      ]
    },
    {
      "cell_type": "code",
      "execution_count": null,
      "metadata": {
        "colab": {
          "base_uri": "https://localhost:8080/"
        },
        "id": "uW8zW0o6L-ht",
        "outputId": "4e0f52b5-8886-4b1a-cddf-268dc58be5af"
      },
      "outputs": [
        {
          "output_type": "stream",
          "name": "stdout",
          "text": [
            "Number of samples in training dataset: 25193\n",
            "Number of samples in validation dataset: 4093\n"
          ]
        }
      ],
      "source": [
        "train_dataloader = NRMSDataLoader(\n",
        "    behaviors=df_train,\n",
        "    article_dict=article_mapping,\n",
        "    unknown_representation=\"zeros\",\n",
        "    history_column=DEFAULT_HISTORY_ARTICLE_ID_COL,\n",
        "    eval_mode=False,\n",
        "    batch_size=8,\n",
        ")\n",
        "\n",
        "\n",
        "val_dataloader = NRMSDataLoader(\n",
        "    behaviors=df_validation,\n",
        "    article_dict=article_mapping,\n",
        "    unknown_representation=\"zeros\",\n",
        "    history_column=DEFAULT_HISTORY_ARTICLE_ID_COL,\n",
        "    eval_mode=False,\n",
        "    batch_size=8,\n",
        ")\n",
        "\n",
        "\n",
        "num_samples = len(train_dataloader)\n",
        "print(f\"Number of samples in training dataset: {num_samples}\")\n",
        "val_samp = len(val_dataloader)\n",
        "print(f\"Number of samples in validation dataset: {val_samp}\")\n",
        "\n"
      ]
    },
    {
      "cell_type": "markdown",
      "metadata": {
        "id": "twfqLFMRBwgS"
      },
      "source": [
        "# **NRMS-MODEL**"
      ]
    },
    {
      "cell_type": "code",
      "execution_count": null,
      "metadata": {
        "id": "9tUR6uEzRVhY"
      },
      "outputs": [],
      "source": [
        "import torch\n",
        "import torch.nn as nn\n",
        "import torch.nn.functional as F\n",
        "import numpy as np\n",
        "\n",
        "class MultiHeadAdditiveAttention(nn.Module):\n",
        "    \"\"\"Multi-Head Additive Attention Layer.\"\"\"\n",
        "\n",
        "    def __init__(self, head_num, head_dim, attn_hidden_dim=128, dropout=0.2, seed=None):\n",
        "        super().__init__()\n",
        "        torch.manual_seed(seed)\n",
        "        self.head_num = head_num\n",
        "        self.head_dim = head_dim\n",
        "        self.attn_hidden_dim = attn_hidden_dim\n",
        "\n",
        "        # Linear projections for query, key, value\n",
        "        self.query = nn.Linear(head_dim * head_num, head_dim * head_num)\n",
        "        self.key = nn.Linear(head_dim * head_num, head_dim * head_num)\n",
        "        self.value = nn.Linear(head_dim * head_num, head_dim * head_num)\n",
        "\n",
        "        # Additive attention components\n",
        "        self.attn_fc = nn.Linear(head_dim * 2, attn_hidden_dim)  # Combine query and key\n",
        "        self.attn_v = nn.Parameter(torch.randn(attn_hidden_dim))  # Scoring weight vector\n",
        "\n",
        "        # Final projection layer (initialize as None)\n",
        "        self.fc = None\n",
        "\n",
        "        self.dropout = nn.Dropout(dropout)\n",
        "\n",
        "    def forward(self, x):\n",
        "        batch_size, seq_len, embedding_dim = x.size()\n",
        "        #print(f\"Input to MultiHeadAdditiveAttention: {x.shape}\")  # Debug\n",
        "\n",
        "        # Linear projections\n",
        "        q = self.query(x).view(batch_size, seq_len, self.head_num, self.head_dim)  # [B, T, H, D]\n",
        "        k = self.key(x).view(batch_size, seq_len, self.head_num, self.head_dim)  # [B, T, H, D]\n",
        "        v = self.value(x).view(batch_size, seq_len, self.head_num, self.head_dim)  # [B, T, H, D]\n",
        "\n",
        "        #print(f\"Query shape: {q.shape}, Key shape: {k.shape}, Value shape: {v.shape}\")  # Debug\n",
        "\n",
        "        # Expand dimensions for queries and keys\n",
        "        q = q.unsqueeze(2).expand(-1, -1, seq_len, -1, -1)  # [B, T, T, H, D]\n",
        "        k = k.unsqueeze(1).expand(-1, seq_len, -1, -1, -1)  # [B, T, T, H, D]\n",
        "\n",
        "        #print(f\"Expanded Query shape: {q.shape}, Expanded Key shape: {k.shape}\")  # Debug\n",
        "\n",
        "        # Concatenate Query and Key\n",
        "        qk_concat = torch.cat((q, k), dim=-1)  # [B, T, T, H, 2D]\n",
        "        #print(f\"Concatenated Query-Key shape: {qk_concat.shape}\")  # Debug\n",
        "\n",
        "        # Compute attention scores\n",
        "        attn_scores = torch.tanh(self.attn_fc(qk_concat))  # [B, T, T, H, hidden_dim]\n",
        "        attn_scores = torch.matmul(attn_scores, self.attn_v)  # [B, T, T, H]\n",
        "        #print(f\"Attention scores shape: {attn_scores.shape}\")  # Debug\n",
        "\n",
        "        # Normalize scores\n",
        "        attn_weights = F.softmax(attn_scores, dim=2)  # [B, T, T, H]\n",
        "        #print(f\"Attention weights shape: {attn_weights.shape}\")  # Debug\n",
        "\n",
        "        # Compute weighted sum of values\n",
        "        context = torch.matmul(attn_weights, v)  # [B, T, H, D]\n",
        "        #print(f\"Context shape after matmul: {context.shape}\")  # Debug\n",
        "\n",
        "        # Reshape context to combine heads\n",
        "        context = context.contiguous().view(batch_size, seq_len, -1)  # [B, T, H*D]\n",
        "\n",
        "        # Dynamic projection layer\n",
        "        if self.fc is None:\n",
        "            self.fc = nn.Linear(context.size(-1), embedding_dim).to(x.device)\n",
        "\n",
        "        #print(f\"Final output shape of MultiHeadAdditiveAttention: {context.shape}\")  # Debug\n",
        "        return self.fc(context)\n",
        "\n",
        "\n",
        "class NewsEncoder(nn.Module):\n",
        "    def __init__(self, embedding_dim, vocab_size, pretrained_embedding=None, dropout=0.2, head_num=16, head_dim=16, attn_hidden_dim=200, seed=None):\n",
        "        super().__init__()\n",
        "        torch.manual_seed(seed)\n",
        "\n",
        "        # Embedding layer\n",
        "        if pretrained_embedding is None:\n",
        "            self.embedding = nn.Embedding(vocab_size, embedding_dim)\n",
        "        else:\n",
        "            self.embedding = nn.Embedding.from_pretrained(torch.FloatTensor(pretrained_embedding), freeze=False)\n",
        "        # Projection layer\n",
        "        if embedding_dim != head_num * head_dim:\n",
        "            self.projection = nn.Linear(embedding_dim, head_num * head_dim)\n",
        "        else:\n",
        "            self.projection = None\n",
        "\n",
        "        self.dropout = nn.Dropout(dropout)\n",
        "        self.self_attention = MultiHeadAdditiveAttention(head_num, head_dim, attn_hidden_dim, dropout, seed)\n",
        "\n",
        "        self.maxpool = nn.AdaptiveMaxPool1d(1)\n",
        "\n",
        "    def forward(self, x):\n",
        "       # print(f\"Input to NewsEncoder: {x.shape}\")  # Debug\n",
        "        x = self.embedding(x)\n",
        "        #print(f\"Shape after embedding: {x.shape}\")  # Debug\n",
        "\n",
        "        if self.projection is not None:\n",
        "            batch_size, seq_len, _ = x.size()\n",
        "            x = self.projection(x.view(-1, x.size(-1))).view(batch_size, seq_len, -1)\n",
        "           # print(f\"Shape after projection: {x.shape}\")  # Debug\n",
        "\n",
        "        x = self.dropout(x)\n",
        "        x = self.self_attention(x)\n",
        "        #print(f\"Shape after self-attention in NewsEncoder: {x.shape}\")  # Debug\n",
        "\n",
        "        x = x.transpose(1, 2)\n",
        "        x = self.maxpool(x).squeeze(-1)\n",
        "        #print(f\"Output of NewsEncoder after max-pooling: {x.shape}\")  # Debug\n",
        "        return x\n",
        "\n",
        "\n",
        "class UserEncoder(nn.Module):\n",
        "    def __init__(self, news_encoder, history_size, head_num=16, head_dim=16, attn_hidden_dim=200, dropout=0.2, seed=None):\n",
        "        super().__init__()\n",
        "        torch.manual_seed(seed)\n",
        "        self.news_encoder = news_encoder\n",
        "\n",
        "        self.self_attention = MultiHeadAdditiveAttention(head_num, head_dim, attn_hidden_dim, dropout, seed)\n",
        "\n",
        "        # Replace AttentionLayer with MeanPooling for simplicity\n",
        "        self.meanpool = nn.AdaptiveAvgPool1d(1)\n",
        "\n",
        "    def forward(self, history_titles):\n",
        "        batch_size, history_size, title_size = history_titles.size()\n",
        "        #print(f\"Input to UserEncoder: {history_titles.shape}\")  # Debug\n",
        "\n",
        "        news_repr = torch.stack([self.news_encoder(history_titles[:, i]) for i in range(history_size)], dim=1)\n",
        "        #print(f\"Shape of news representations: {news_repr.shape}\")  # Debug\n",
        "\n",
        "        news_repr = self.self_attention(news_repr)\n",
        "        #print(f\"Shape after self-attention in UserEncoder: {news_repr.shape}\")  # Debug\n",
        "\n",
        "        news_repr = news_repr.transpose(1, 2)\n",
        "        user_repr = self.meanpool(news_repr).squeeze(-1)\n",
        "        #print(f\"Output of UserEncoder: {user_repr.shape}\")  # Debug\n",
        "        return user_repr\n",
        "\n",
        "\n",
        "class NRMSModel(nn.Module):\n",
        "    \"\"\"NRMS Model.\"\"\"\n",
        "\n",
        "    def __init__(self, hparams, word2vec_embedding=None, seed=None):\n",
        "        super().__init__()\n",
        "        torch.manual_seed(seed)\n",
        "        self.news_encoder = NewsEncoder(\n",
        "            embedding_dim=hparams[\"word_emb_dim\"],\n",
        "            vocab_size=hparams[\"vocab_size\"],\n",
        "            pretrained_embedding=word2vec_embedding,\n",
        "            dropout=hparams[\"dropout\"],\n",
        "            head_num=hparams[\"head_num\"],\n",
        "            head_dim=hparams[\"head_dim\"],\n",
        "            attn_hidden_dim=hparams[\"attention_hidden_dim\"],\n",
        "            seed=seed,\n",
        "        )\n",
        "        self.user_encoder = UserEncoder(\n",
        "            news_encoder=self.news_encoder,\n",
        "            history_size=hparams[\"history_size\"],\n",
        "            head_num=hparams[\"head_num\"],\n",
        "            head_dim=hparams[\"head_dim\"],\n",
        "            attn_hidden_dim=hparams[\"attention_hidden_dim\"],\n",
        "            dropout=hparams[\"dropout\"],\n",
        "            seed=seed,\n",
        "        )\n",
        "\n",
        "    def forward(self, history_titles, candidate_titles):\n",
        "        candidate_repr = torch.stack([self.news_encoder(candidate_titles[:, i]) for i in range(candidate_titles.size(1))], dim=1)\n",
        "        user_repr = self.user_encoder(history_titles)\n",
        "\n",
        "        # Click probability\n",
        "        scores = torch.bmm(candidate_repr, user_repr.unsqueeze(-1)).squeeze(-1)\n",
        "        return scores\n"
      ]
    },
    {
      "cell_type": "markdown",
      "source": [
        "## **Hyperparameters**"
      ],
      "metadata": {
        "id": "a5aXbU72TDVC"
      }
    },
    {
      "cell_type": "code",
      "execution_count": null,
      "metadata": {
        "id": "siCQPQfLzWCf"
      },
      "outputs": [],
      "source": [
        "class HParams:\n",
        "    def __init__(self):\n",
        "        self.title_size = 20\n",
        "        self.history_size = 20\n",
        "        self.vocab_size = 250002          # lLAMA3 128256 // munin-7b-alpha = 32000 // FastText = 200.000 (2.000.000) // Face -roberta = 250002 // GLOVE = 400004\n",
        "        self.word_emb_dim = 768\n",
        "        self.head_num = 24                #  16 heads  (Article)\n",
        "        self.head_dim = 32                #  16-dim (Article)\n",
        "        self.attention_hidden_dim = 200   # Artice 200 - additive attention query vectors\n",
        "        self.dropout = 0.4\n",
        "        self.learning_rate = 1e-4\n",
        "\n",
        "    def __getitem__(self, key):\n",
        "        return getattr(self, key)\n"
      ]
    },
    {
      "cell_type": "markdown",
      "metadata": {
        "id": "A8YXAMmX8MV6"
      },
      "source": [
        "# **Loss function**"
      ]
    },
    {
      "cell_type": "code",
      "execution_count": null,
      "metadata": {
        "id": "xn6a7No3rEWc"
      },
      "outputs": [],
      "source": [
        "def Negative_samp(scores, labels):\n",
        "\n",
        "    # Expect one-hot encoding; adjust if necessary\n",
        "    labels = torch.argmax(labels, dim=1)\n",
        "\n",
        "    # Extract positive scores\n",
        "    pos_scores = scores[range(scores.size(0)), labels]\n",
        "\n",
        "    # Compute probabilities\n",
        "    all_scores = torch.exp(scores)\n",
        "    denominators = all_scores.sum(dim=1)\n",
        "    probabilities = torch.exp(pos_scores) / denominators\n",
        "\n",
        "    # Stabilize probabilities\n",
        "    probabilities = torch.clamp(probabilities, min=1e-8, max=1.0)\n",
        "\n",
        "    # Compute negative log-likelihood\n",
        "    loss = -torch.log(probabilities).mean()\n",
        "   # print(\"Loss:\", loss.item())  # Debugging\n",
        "    return loss\n"
      ]
    },
    {
      "cell_type": "markdown",
      "metadata": {
        "id": "MMvuFw-ovYvW"
      },
      "source": [
        "![image.png](data:image/png;base64,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)"
      ]
    },
    {
      "cell_type": "markdown",
      "metadata": {
        "id": "qYLrXe1bi21_"
      },
      "source": [
        "# **Training and validation loop** (Around 6 hours with A800 GPU in colab)"
      ]
    },
    {
      "cell_type": "code",
      "execution_count": null,
      "metadata": {
        "colab": {
          "base_uri": "https://localhost:8080/"
        },
        "id": "W5MudpaGHiy5",
        "outputId": "a3681fdc-718b-49c3-89ad-149fb2d8aceb"
      },
      "outputs": [
        {
          "output_type": "stream",
          "name": "stdout",
          "text": [
            "Using device: cuda\n",
            "\n",
            "Epoch 1/6\n",
            "Training Loss: 1.4215, Training AUC: 0.7042\n",
            "Any NaN in all_val_probs? False\n",
            "Any NaN in all_val_labels? False\n",
            "Validation Loss: 1.6033, Validation AUC: 0.5883\n",
            "Best model saved with AUC: 0.5883\n",
            "\n",
            "Epoch 2/6\n",
            "Training Loss: 1.3974, Training AUC: 0.7180\n",
            "Any NaN in all_val_probs? False\n",
            "Any NaN in all_val_labels? False\n",
            "Validation Loss: 1.6078, Validation AUC: 0.5903\n",
            "Best model saved with AUC: 0.5903\n",
            "\n",
            "Epoch 3/6\n",
            "Training Loss: 1.3922, Training AUC: 0.7207\n",
            "Any NaN in all_val_probs? False\n",
            "Any NaN in all_val_labels? False\n",
            "Validation Loss: 1.6223, Validation AUC: 0.5890\n",
            "\n",
            "Epoch 4/6\n",
            "Training Loss: 1.3877, Training AUC: 0.7233\n",
            "Any NaN in all_val_probs? False\n",
            "Any NaN in all_val_labels? False\n",
            "Validation Loss: 1.6363, Validation AUC: 0.5880\n",
            "\n",
            "Epoch 5/6\n",
            "Training Loss: 1.3817, Training AUC: 0.7270\n",
            "Any NaN in all_val_probs? False\n",
            "Any NaN in all_val_labels? False\n",
            "Validation Loss: 1.6376, Validation AUC: 0.5909\n",
            "Best model saved with AUC: 0.5909\n",
            "\n",
            "Epoch 6/6\n",
            "Training Loss: 1.3637, Training AUC: 0.7374\n",
            "Any NaN in all_val_probs? False\n",
            "Any NaN in all_val_labels? False\n",
            "Validation Loss: 1.6362, Validation AUC: 0.5936\n",
            "Best model saved with AUC: 0.5936\n"
          ]
        },
        {
          "output_type": "stream",
          "name": "stderr",
          "text": [
            "<ipython-input-101-3c7f8a9f695b>:149: FutureWarning: You are using `torch.load` with `weights_only=False` (the current default value), which uses the default pickle module implicitly. It is possible to construct malicious pickle data which will execute arbitrary code during unpickling (See https://github.com/pytorch/pytorch/blob/main/SECURITY.md#untrusted-models for more details). In a future release, the default value for `weights_only` will be flipped to `True`. This limits the functions that could be executed during unpickling. Arbitrary objects will no longer be allowed to be loaded via this mode unless they are explicitly allowlisted by the user via `torch.serialization.add_safe_globals`. We recommend you start setting `weights_only=True` for any use case where you don't have full control of the loaded file. Please open an issue on GitHub for any issues related to this experimental feature.\n",
            "  model.load_state_dict(torch.load(MODEL_WEIGHTS))\n"
          ]
        },
        {
          "output_type": "stream",
          "name": "stdout",
          "text": [
            "Model loaded from best checkpoint.\n"
          ]
        }
      ],
      "source": [
        "import os\n",
        "import torch\n",
        "from sklearn.metrics import roc_auc_score\n",
        "from torch.utils.tensorboard import SummaryWriter\n",
        "from torch.optim.lr_scheduler import ReduceLROnPlateau\n",
        "\n",
        "# Initialize hyperparameters\n",
        "hparams = HParams()\n",
        "\n",
        "# Initialize model\n",
        "model = NRMSModel(hparams, word2vec_embedding, seed=123)\n",
        "device = torch.device(\"cuda\" if torch.cuda.is_available() else \"cpu\")\n",
        "print(f\"Using device: {device}\")\n",
        "model = model.to(device)\n",
        "\n",
        "optimizer = torch.optim.Adam(model.parameters(), lr=hparams.learning_rate, weight_decay=1e-4)\n",
        "# Scheduler to reduce the learning rate based on validation AUC\n",
        "scheduler = ReduceLROnPlateau(optimizer, mode='max', factor=0.2, patience=3, min_lr=1e-6, verbose=True)\n",
        "\n",
        "# Define paths for saving files\n",
        "BASE_DIR = \"/content/drive/MyDrive/EB_project\"\n",
        "MODEL_NAME = \"NRMSModel\"\n",
        "MODEL_WEIGHTS = os.path.join(BASE_DIR, f\"state_dict/{MODEL_NAME}/weights.pth\")\n",
        "LOG_DIR = os.path.join(BASE_DIR, f\"runs/{MODEL_NAME}\")\n",
        "os.makedirs(os.path.dirname(MODEL_WEIGHTS), exist_ok=True)\n",
        "os.makedirs(LOG_DIR, exist_ok=True)\n",
        "\n",
        "# TensorBoard writer\n",
        "writer = SummaryWriter(log_dir=LOG_DIR)\n",
        "\n",
        "# Initialize metrics storage\n",
        "train_losses = []\n",
        "val_losses = []\n",
        "train_aucs = []\n",
        "val_aucs = []\n",
        "\n",
        "# Training parameters\n",
        "num_epochs = 6\n",
        "best_val_auc = 0\n",
        "\n",
        "# Training loop\n",
        "for epoch in range(num_epochs):\n",
        "    print(f\"\\nEpoch {epoch + 1}/{num_epochs}\")\n",
        "    model.train()\n",
        "\n",
        "    total_train_loss = 0\n",
        "    all_train_probs = []\n",
        "    all_train_labels = []\n",
        "\n",
        "    for batch_idx, batch in enumerate(train_dataloader):\n",
        "        optimizer.zero_grad()\n",
        "        (history_titles, candidate_titles), labels = batch\n",
        "\n",
        "        # Convert inputs to tensors\n",
        "        history_titles = torch.tensor(history_titles, dtype=torch.long, device=device)\n",
        "        candidate_titles = torch.tensor(candidate_titles, dtype=torch.long, device=device)\n",
        "\n",
        "        labels = torch.tensor(labels, dtype=torch.float, device=device)\n",
        "\n",
        "        if labels.sum() == 0:  # Skip batches with no positive labels\n",
        "            continue\n",
        "\n",
        "        # Forward pass\n",
        "        scores = model(history_titles, candidate_titles)\n",
        "        probabilities = torch.softmax(scores, dim=1)\n",
        "\n",
        "        # Compute loss and update weights\n",
        "        loss = Negative_samp(scores, labels)\n",
        "        loss.backward()\n",
        "        optimizer.step()\n",
        "\n",
        "        total_train_loss += loss.item()\n",
        "        all_train_probs.extend(probabilities.view(-1).detach().cpu().numpy())\n",
        "        all_train_labels.extend(labels.view(-1).detach().cpu().numpy())\n",
        "\n",
        "    avg_train_loss = total_train_loss / (batch_idx + 1)\n",
        "    train_auc = roc_auc_score(all_train_labels, all_train_probs)\n",
        "    train_losses.append(avg_train_loss)\n",
        "    train_aucs.append(train_auc)\n",
        "    writer.add_scalar(\"Loss/Train\", avg_train_loss, epoch)\n",
        "    writer.add_scalar(\"AUC/Train\", train_auc, epoch)\n",
        "    print(f\"Training Loss: {avg_train_loss:.4f}, Training AUC: {train_auc:.4f}\")\n",
        "\n",
        "    # Validation loop\n",
        "    model.eval()\n",
        "    total_val_loss = 0\n",
        "    all_val_probs = []\n",
        "    all_val_labels = []\n",
        "\n",
        "    with torch.no_grad():\n",
        "        for batch_idx, batch in enumerate(val_dataloader):\n",
        "            (history_titles, candidate_titles), labels = batch\n",
        "\n",
        "            history_titles = torch.tensor(history_titles, dtype=torch.long, device=device)\n",
        "            candidate_titles = torch.tensor(candidate_titles, dtype=torch.long, device=device)\n",
        "\n",
        "            labels = torch.tensor(labels, dtype=torch.float, device=device)\n",
        "\n",
        "            if labels.sum() == 0:\n",
        "                continue\n",
        "\n",
        "            # Forward pass\n",
        "            scores = model(history_titles, candidate_titles)\n",
        "            probabilities = torch.softmax(scores, dim=1)\n",
        "\n",
        "            # Compute loss\n",
        "            loss = Negative_samp(scores, labels)\n",
        "            total_val_loss += loss.item()\n",
        "            all_val_probs.extend(probabilities.view(-1).detach().cpu().numpy())\n",
        "            all_val_labels.extend(labels.view(-1).detach().cpu().numpy())\n",
        "\n",
        "    # Debugging for NaN values\n",
        "    print(\"Any NaN in all_val_probs?\", np.isnan(all_val_probs).any())\n",
        "    print(\"Any NaN in all_val_labels?\", np.isnan(all_val_labels).any())\n",
        "\n",
        "    if np.isnan(all_val_probs).any() or np.isnan(all_val_labels).any():\n",
        "        print(\"NaN found in probabilities or labels! Stopping validation for debugging.\")\n",
        "        exit()\n",
        "\n",
        "    avg_val_loss = total_val_loss / (batch_idx + 1)\n",
        "    val_auc = roc_auc_score(all_val_labels, all_val_probs)\n",
        "    val_losses.append(avg_val_loss)\n",
        "    val_aucs.append(val_auc)\n",
        "    writer.add_scalar(\"Loss/Validation\", avg_val_loss, epoch)\n",
        "    writer.add_scalar(\"AUC/Validation\", val_auc, epoch)\n",
        "    print(f\"Validation Loss: {avg_val_loss:.4f}, Validation AUC: {val_auc:.4f}\")\n",
        "\n",
        "    scheduler.step(val_auc)\n",
        "\n",
        "    # Save the model if validation AUC improves\n",
        "    if val_auc > best_val_auc:\n",
        "        best_val_auc = val_auc\n",
        "        torch.save(model.state_dict(), MODEL_WEIGHTS)\n",
        "        print(f\"Best model saved with AUC: {val_auc:.4f}\")\n",
        "\n",
        "# Load the best model after training\n",
        "writer.close()\n",
        "model.load_state_dict(torch.load(MODEL_WEIGHTS))\n",
        "print(\"Model loaded from best checkpoint.\")\n"
      ]
    },
    {
      "cell_type": "markdown",
      "metadata": {
        "id": "6czArnb-77h_"
      },
      "source": [
        "# **Plot Train and validation**"
      ]
    },
    {
      "cell_type": "code",
      "execution_count": null,
      "metadata": {
        "colab": {
          "base_uri": "https://localhost:8080/",
          "height": 957
        },
        "id": "XJ-iq6lORfxg",
        "outputId": "a7f407e6-c1ac-4a76-ed21-57fe75407075"
      },
      "outputs": [
        {
          "output_type": "display_data",
          "data": {
            "text/plain": [
              "<Figure size 1000x500 with 1 Axes>"
            ],
            "image/png": "[encoded data removed]"
          },
          "metadata": {}
        },
        {
          "output_type": "display_data",
          "data": {
            "text/plain": [
              "<Figure size 1000x500 with 1 Axes>"
            ],
            "image/png": "[encoded data removed]"
          },
          "metadata": {}
        }
      ],
      "source": [
        "import matplotlib.pyplot as plt\n",
        "\n",
        "# Plot Train and Validation loss\n",
        "plt.figure(figsize=(10, 5))\n",
        "plt.plot(train_losses, label='Train Loss')\n",
        "plt.plot(val_losses, label='Validation Loss', linestyle='--')\n",
        "plt.xlabel('Epochs')\n",
        "plt.ylabel('Loss')\n",
        "plt.title('Train vs Validation Loss')\n",
        "plt.legend()\n",
        "plt.show()\n",
        "\n",
        "# Plot Train and Validation AUC\n",
        "plt.figure(figsize=(10, 5))\n",
        "plt.plot(train_aucs, label='Train AUC')\n",
        "plt.plot(val_aucs, label='Validation AUC', linestyle='--')\n",
        "plt.xlabel('Epochs')\n",
        "plt.ylabel('AUC')\n",
        "plt.title('Train vs Validation AUC')\n",
        "plt.legend()\n",
        "plt.show()"
      ]
    },
    {
      "cell_type": "markdown",
      "metadata": {
        "id": "umEp6ZJkNJMn"
      },
      "source": [
        "# **Test/ Evaluation part**"
      ]
    },
    {
      "cell_type": "code",
      "source": [
        "df_test = (\n",
        "    ebnerd_from_path(\n",
        "        PATH.joinpath(DATASPLIT, \"validation\"),\n",
        "        history_size=HISTORY_SIZE,\n",
        "        padding=0,\n",
        "    )\n",
        "    .select(COLUMNS)\n",
        "    .pipe(create_binary_labels_column)\n",
        "    .sample(fraction=FRACTION)\n",
        ")\n",
        "print(len(df_test))"
      ],
      "metadata": {
        "id": "9hyMvBAgbhH_",
        "outputId": "019b5999-1516-4bdb-9b3f-9314f0abc40f",
        "colab": {
          "base_uri": "https://localhost:8080/"
        }
      },
      "execution_count": null,
      "outputs": [
        {
          "output_type": "stream",
          "name": "stdout",
          "text": [
            "244647\n"
          ]
        }
      ]
    },
    {
      "cell_type": "markdown",
      "metadata": {
        "id": "xbc_PbhDL-hu"
      },
      "source": [
        "# **Compute predictions**\n"
      ]
    },
    {
      "cell_type": "code",
      "execution_count": null,
      "metadata": {
        "id": "e3VHr-ieL-hv"
      },
      "outputs": [],
      "source": [
        "import matplotlib.pyplot as plt\n",
        "from sklearn.metrics import roc_auc_score\n",
        "import torch\n",
        "from torch.utils.data import DataLoader\n",
        "import numpy as np\n",
        "\n",
        "\n",
        "test_dataloader = NRMSDataLoader(\n",
        "    behaviors=df_test,\n",
        "    article_dict=article_mapping,\n",
        "    unknown_representation=\"zeros\",\n",
        "    history_column=DEFAULT_HISTORY_ARTICLE_ID_COL,\n",
        "    eval_mode=True,\n",
        "    batch_size=32,\n",
        ")\n",
        "\n",
        "# --- Testing phase ---\n",
        "model.eval()  # Set the model to evaluation mode\n",
        "test_predictions = []\n",
        "\n",
        "with torch.no_grad():  # Disable gradient calculation for inference\n",
        "    for batch_idx, batch in enumerate(test_dataloader):\n",
        "        (history_titles, candidate_titles), labels = batch\n",
        "\n",
        "        # Move data to device\n",
        "        history_titles = torch.tensor(history_titles, dtype=torch.long, device=device)\n",
        "        candidate_titles = torch.tensor(candidate_titles, dtype=torch.long, device=device)\n",
        "\n",
        "        # Forward pass to get scores\n",
        "        scores = model(history_titles, candidate_titles)\n",
        "\n",
        "        # Debug: Print scores and their dimensions\n",
        "\n",
        "        # Apply softmax to convert scores into probabilities\n",
        "        probabilities = torch.sigmoid(scores)\n",
        "        # Debug: Print probabilities\n",
        "\n",
        "        # Collect predictions\n",
        "        test_predictions.extend(probabilities.cpu().numpy())\n",
        "\n",
        "# Convert predictions to numpy array\n",
        "test_predictions = np.array(test_predictions)\n"
      ]
    },
    {
      "cell_type": "markdown",
      "source": [
        "## **Add predictions to dataframe**"
      ],
      "metadata": {
        "id": "89GPpI29Vu1N"
      }
    },
    {
      "cell_type": "code",
      "execution_count": null,
      "metadata": {
        "id": "5-naSfpmK8BF"
      },
      "outputs": [],
      "source": [
        "from typing import Iterable\n",
        "import polars as pl\n",
        "from ebrec.utils._polars import generate_unique_name\n",
        "from ebrec.utils._constants import DEFAULT_INVIEW_ARTICLES_COL\n",
        "import numpy as np\n",
        "\n",
        "\n",
        "def add_prediction_scores(\n",
        "    df: pl.DataFrame,\n",
        "    scores: Iterable[float],\n",
        "    prediction_scores_col: str = \"scores\",\n",
        "    inview_col: str = DEFAULT_INVIEW_ARTICLES_COL,\n",
        ") -> pl.DataFrame:\n",
        "    # Generate a unique ID for groupby\n",
        "    GROUPBY_ID = generate_unique_name(df.columns, \"_groupby_id\")\n",
        "\n",
        "    # Add row index as GROUPBY_ID in the original DataFrame\n",
        "    df = df.with_row_index(name=GROUPBY_ID)\n",
        "\n",
        "    # Generate prediction scores\n",
        "    scores = (\n",
        "        df.lazy()\n",
        "        .select(pl.col(inview_col), pl.col(GROUPBY_ID))\n",
        "        .explode(inview_col)\n",
        "        .with_columns(pl.Series(prediction_scores_col, scores).explode())\n",
        "        .group_by(GROUPBY_ID)\n",
        "        .agg(inview_col, prediction_scores_col)\n",
        "        .sort(GROUPBY_ID)\n",
        "        .collect()\n",
        "    )\n",
        "\n",
        "    return (\n",
        "        df.join(scores, on=GROUPBY_ID, how=\"left\")\n",
        "        .drop(GROUPBY_ID)\n",
        "    )\n",
        "\n",
        "\n",
        "\n",
        "df_test = add_prediction_scores(\n",
        "    df=df_test,\n",
        "    scores=test_predictions.tolist(),\n",
        "    inview_col=\"article_ids_inview\"\n",
        ")\n"
      ]
    },
    {
      "cell_type": "markdown",
      "metadata": {
        "id": "Kq9O1_U5L-hw"
      },
      "source": [
        "## **Compute metrics**"
      ]
    },
    {
      "cell_type": "code",
      "execution_count": null,
      "metadata": {
        "colab": {
          "base_uri": "https://localhost:8080/"
        },
        "id": "MX1HAxoaL-hw",
        "outputId": "a219d6ee-d206-4d23-825b-64d049d79874"
      },
      "outputs": [
        {
          "output_type": "stream",
          "name": "stdout",
          "text": [
            "<MetricEvaluator class>: \n",
            " {\n",
            "    \"auc\": 0.5644837382639218,\n",
            "    \"mrr\": 0.3459273877558783,\n",
            "    \"ndcg@5\": 0.3895380221724382,\n",
            "    \"ndcg@10\": 0.46475923210541503,\n",
            "    \"f1\": 0.06216195261731217\n",
            "}\n"
          ]
        }
      ],
      "source": [
        "\n",
        "metrics = MetricEvaluator(\n",
        "    labels=df_test[\"labels\"].to_list(),\n",
        "    predictions=df_test[\"scores\"].to_list(),\n",
        "    metric_functions=[\n",
        "        AucScore(),\n",
        "        MrrScore(),\n",
        "        NdcgScore(k=5),\n",
        "        NdcgScore(k=10),\n",
        "        F1Score(threshold=0.5),\n",
        "    ],\n",
        ")\n",
        "results = metrics.evaluate()\n",
        "print(results)\n"
      ]
    },
    {
      "cell_type": "markdown",
      "metadata": {
        "id": "RAobQkmZiIiU"
      },
      "source": [
        "## **Confusion matrix**"
      ]
    },
    {
      "cell_type": "code",
      "execution_count": null,
      "metadata": {
        "colab": {
          "base_uri": "https://localhost:8080/",
          "height": 541
        },
        "id": "BtauCwgdiLQt",
        "outputId": "d6acb4c2-8cff-468c-f7dd-cc7ce29e5c93"
      },
      "outputs": [
        {
          "output_type": "stream",
          "name": "stdout",
          "text": [
            "True Positives (TP): 19674\n",
            "False Positives (FP): 203548\n",
            "True Negatives (TN): 2479772\n",
            "False Negatives (FN): 225948\n"
          ]
        },
        {
          "output_type": "display_data",
          "data": {
            "text/plain": [
              "<Figure size 640x480 with 2 Axes>"
            ],
            "image/png": "[encoded data removed]"
          },
          "metadata": {}
        }
      ],
      "source": [
        "from sklearn.metrics import confusion_matrix, ConfusionMatrixDisplay\n",
        "import matplotlib.pyplot as plt\n",
        "\n",
        "# Extract labels\n",
        "labels = df_test[\"labels\"].to_list()  # True labels\n",
        "scores = df_test[\"scores\"].to_list()  # Predicted probabilities\n",
        "\n",
        "threshold = 0.5\n",
        "predictions = [[1 if score > threshold else 0 for score in row] for row in scores]\n",
        "\n",
        "# Flatten labels and predictions\n",
        "flattened_labels = [label for sublist in labels for label in sublist]\n",
        "flattened_predictions = [pred for sublist in predictions for pred in sublist]\n",
        "\n",
        "# Compute the confusion matrix\n",
        "cm = confusion_matrix(flattened_labels, flattened_predictions)\n",
        "tn, fp, fn, tp = cm.ravel()\n",
        "\n",
        "# Print metrics\n",
        "print(f\"True Positives (TP): {tp}\")\n",
        "print(f\"False Positives (FP): {fp}\")\n",
        "print(f\"True Negatives (TN): {tn}\")\n",
        "print(f\"False Negatives (FN): {fn}\")\n",
        "\n",
        "# Visualize\n",
        "disp = ConfusionMatrixDisplay(confusion_matrix=cm, display_labels=[0, 1])\n",
        "disp.plot(cmap=plt.cm.Blues)\n",
        "plt.title(\"Confusion Matrix\")\n",
        "plt.show()\n"
      ]
    },
    {
      "cell_type": "markdown",
      "metadata": {
        "id": "9qtT6WlyL-hx"
      },
      "source": [
        "# **Make submission file**"
      ]
    },
    {
      "cell_type": "code",
      "execution_count": null,
      "metadata": {
        "colab": {
          "base_uri": "https://localhost:8080/",
          "height": 285
        },
        "id": "VE-Bd4ANL-hx",
        "outputId": "e30299ed-0a30-44e6-8239-dd1cdc916518"
      },
      "outputs": [
        {
          "output_type": "execute_result",
          "data": {
            "text/plain": [
              "shape: (2, 9)\n",
              "┌─────────┬────────────┬───────────┬───────────┬───┬───────────┬───────────┬───────────┬───────────┐\n",
              "│ user_id ┆ impression ┆ impressio ┆ article_i ┆ … ┆ article_i ┆ labels    ┆ scores    ┆ ranked_sc │\n",
              "│ ---     ┆ _id        ┆ n_time    ┆ d_fixed   ┆   ┆ ds_inview ┆ ---       ┆ ---       ┆ ores      │\n",
              "│ u32     ┆ ---        ┆ ---       ┆ ---       ┆   ┆ ---       ┆ list[i8]  ┆ list[f64] ┆ ---       │\n",
              "│         ┆ u32        ┆ datetime[ ┆ list[i32] ┆   ┆ list[i32] ┆           ┆           ┆ list[f64] │\n",
              "│         ┆            ┆ μs]       ┆           ┆   ┆           ┆           ┆           ┆           │\n",
              "╞═════════╪════════════╪═══════════╪═══════════╪═══╪═══════════╪═══════════╪═══════════╪═══════════╡\n",
              "│ 22548   ┆ 96791      ┆ 2023-05-2 ┆ [9772629, ┆ … ┆ [9784710, ┆ [0, 0, …  ┆ [0.505086 ┆ [1.0,     │\n",
              "│         ┆            ┆ 8         ┆ 9773335,  ┆   ┆ 9784591,  ┆ 0]        ┆ ,         ┆ 4.0, …    │\n",
              "│         ┆            ┆ 04:21:24  ┆ …         ┆   ┆ …         ┆           ┆ 0.388156, ┆ 3.0]      │\n",
              "│         ┆            ┆           ┆ 9776929]  ┆   ┆ 9783865]  ┆           ┆ …         ┆           │\n",
              "│         ┆            ┆           ┆           ┆   ┆           ┆           ┆ 0.45816…  ┆           │\n",
              "│ 22548   ┆ 96798      ┆ 2023-05-2 ┆ [9772629, ┆ … ┆ [9782726, ┆ [0, 0, …  ┆ [0.256757 ┆ [17.0,    │\n",
              "│         ┆            ┆ 8         ┆ 9773335,  ┆   ┆ 9782806,  ┆ 0]        ┆ ,         ┆ 11.0, …   │\n",
              "│         ┆            ┆ 04:31:48  ┆ …         ┆   ┆ …         ┆           ┆ 0.321598, ┆ 4.0]      │\n",
              "│         ┆            ┆           ┆ 9776929]  ┆   ┆ 9784273]  ┆           ┆ …         ┆           │\n",
              "│         ┆            ┆           ┆           ┆   ┆           ┆           ┆ 0.48030…  ┆           │\n",
              "└─────────┴────────────┴───────────┴───────────┴───┴───────────┴───────────┴───────────┴───────────┘"
            ],
            "text/html": [
              "<div><style>\n",
              ".dataframe > thead > tr,\n",
              ".dataframe > tbody > tr {\n",
              "  text-align: right;\n",
              "  white-space: pre-wrap;\n",
              "}\n",
              "</style>\n",
              "<small>shape: (2, 9)</small><table border=\"1\" class=\"dataframe\"><thead><tr><th>user_id</th><th>impression_id</th><th>impression_time</th><th>article_id_fixed</th><th>article_ids_clicked</th><th>article_ids_inview</th><th>labels</th><th>scores</th><th>ranked_scores</th></tr><tr><td>u32</td><td>u32</td><td>datetime[μs]</td><td>list[i32]</td><td>list[i32]</td><td>list[i32]</td><td>list[i8]</td><td>list[f64]</td><td>list[f64]</td></tr></thead><tbody><tr><td>22548</td><td>96791</td><td>2023-05-28 04:21:24</td><td>[9772629, 9773335, … 9776929]</td><td>[9784696]</td><td>[9784710, 9784591, … 9783865]</td><td>[0, 0, … 0]</td><td>[0.505086, 0.388156, … 0.458161]</td><td>[1.0, 4.0, … 3.0]</td></tr><tr><td>22548</td><td>96798</td><td>2023-05-28 04:31:48</td><td>[9772629, 9773335, … 9776929]</td><td>[9784281]</td><td>[9782726, 9782806, … 9784273]</td><td>[0, 0, … 0]</td><td>[0.256757, 0.321598, … 0.480301]</td><td>[17.0, 11.0, … 4.0]</td></tr></tbody></table></div>"
            ]
          },
          "metadata": {},
          "execution_count": 70
        }
      ],
      "source": [
        "df_test = df_test.with_columns(\n",
        "    pl.col(\"scores\")\n",
        "    .map_elements(lambda x: list(rank_predictions_by_score(x)), return_dtype=pl.List(pl.Float64))\n",
        "    .alias(\"ranked_scores\")\n",
        ")\n",
        "df_test.head(2)"
      ]
    },
    {
      "cell_type": "markdown",
      "source": [
        "## **Sort by ranked length**"
      ],
      "metadata": {
        "id": "4WkTLdzeWflh"
      }
    },
    {
      "cell_type": "code",
      "source": [
        "df_test = df_test.with_columns(\n",
        "    (pl.col(\"ranked_scores\").list.len()).alias(\"ranked_length\")\n",
        ").sort(\"ranked_length\")\n",
        "df_test.head(10)"
      ],
      "metadata": {
        "colab": {
          "base_uri": "https://localhost:8080/",
          "height": 952
        },
        "id": "Z7PxKgfZNf9M",
        "outputId": "7de89b1a-4d60-4d42-f958-e65134a30f80"
      },
      "execution_count": null,
      "outputs": [
        {
          "output_type": "execute_result",
          "data": {
            "text/plain": [
              "shape: (10, 11)\n",
              "┌─────────┬────────────┬───────────┬───────────┬───┬───────────┬───────────┬───────────┬───────────┐\n",
              "│ user_id ┆ impression ┆ impressio ┆ article_i ┆ … ┆ article_i ┆ scores    ┆ ranked_sc ┆ ranked_le │\n",
              "│ ---     ┆ _id        ┆ n_time    ┆ d_fixed   ┆   ┆ ds_inview ┆ ---       ┆ ores      ┆ ngth      │\n",
              "│ u32     ┆ ---        ┆ ---       ┆ ---       ┆   ┆ _right    ┆ list[f32] ┆ ---       ┆ ---       │\n",
              "│         ┆ u32        ┆ datetime[ ┆ list[i32] ┆   ┆ ---       ┆           ┆ list[f64] ┆ u32       │\n",
              "│         ┆            ┆ μs]       ┆           ┆   ┆ list[i32] ┆           ┆           ┆           │\n",
              "╞═════════╪════════════╪═══════════╪═══════════╪═══╪═══════════╪═══════════╪═══════════╪═══════════╡\n",
              "│ 22548   ┆ 96791      ┆ 2023-05-2 ┆ [9772629, ┆ … ┆ [9784710, ┆ [0.505086 ┆ [1.0,     ┆ 5         │\n",
              "│         ┆            ┆ 8         ┆ 9773335,  ┆   ┆ 9784696,  ┆ ,         ┆ 5.0, …    ┆           │\n",
              "│         ┆            ┆ 04:21:24  ┆ …         ┆   ┆ …         ┆ 0.315188, ┆ 3.0]      ┆           │\n",
              "│         ┆            ┆           ┆ 9776929]  ┆   ┆ 9783865]  ┆ …         ┆           ┆           │\n",
              "│         ┆            ┆           ┆           ┆   ┆           ┆ 0.45816…  ┆           ┆           │\n",
              "│ 22548   ┆ 96808      ┆ 2023-05-2 ┆ [9772629, ┆ … ┆ [9784406, ┆ [0.275019 ┆ [4.0,     ┆ 5         │\n",
              "│         ┆            ┆ 8         ┆ 9773335,  ┆   ┆ 9781983,  ┆ ,         ┆ 2.0, …    ┆           │\n",
              "│         ┆            ┆ 04:27:19  ┆ …         ┆   ┆ …         ┆ 0.357309, ┆ 5.0]      ┆           │\n",
              "│         ┆            ┆           ┆ 9776929]  ┆   ┆ 9695098]  ┆ …         ┆           ┆           │\n",
              "│         ┆            ┆           ┆           ┆   ┆           ┆ 0.00849…  ┆           ┆           │\n",
              "│ 22548   ┆ 96824      ┆ 2023-05-2 ┆ [9772629, ┆ … ┆ [9784591, ┆ [0.388156 ┆ [4.0,     ┆ 5         │\n",
              "│         ┆            ┆ 8         ┆ 9773335,  ┆   ┆ 9784710,  ┆ ,         ┆ 1.0, …    ┆           │\n",
              "│         ┆            ┆ 04:20:28  ┆ …         ┆   ┆ …         ┆ 0.505086, ┆ 5.0]      ┆           │\n",
              "│         ┆            ┆           ┆ 9776929]  ┆   ┆ 9784696]  ┆ …         ┆           ┆           │\n",
              "│         ┆            ┆           ┆           ┆   ┆           ┆ 0.31518…  ┆           ┆           │\n",
              "│ 25554   ┆ 97415      ┆ 2023-05-2 ┆ [9778769, ┆ … ┆ [9783852, ┆ [0.513901 ┆ [1.0,     ┆ 5         │\n",
              "│         ┆            ┆ 8         ┆ 9778745,  ┆   ┆ 9784559,  ┆ ,         ┆ 4.0, …    ┆           │\n",
              "│         ┆            ┆ 04:14:32  ┆ …         ┆   ┆ …         ┆ 0.237315, ┆ 2.0]      ┆           │\n",
              "│         ┆            ┆           ┆ 9780019]  ┆   ┆ 9784662]  ┆ …         ┆           ┆           │\n",
              "│         ┆            ┆           ┆           ┆   ┆           ┆ 0.44158…  ┆           ┆           │\n",
              "│ 32455   ┆ 99431      ┆ 2023-05-2 ┆ [9775908, ┆ … ┆ [9782884, ┆ [0.22477, ┆ [5.0,     ┆ 5         │\n",
              "│         ┆            ┆ 8         ┆ 9776929,  ┆   ┆ 9784805,  ┆ 0.419131, ┆ 3.0, …    ┆           │\n",
              "│         ┆            ┆ 04:56:13  ┆ …         ┆   ┆ …         ┆ …         ┆ 2.0]      ┆           │\n",
              "│         ┆            ┆           ┆ 9779860]  ┆   ┆ 9784803]  ┆ 0.522223… ┆           ┆           │\n",
              "│ 64661   ┆ 141196     ┆ 2023-05-3 ┆ [9775804, ┆ … ┆ [9788661, ┆ [0.650391 ┆ [1.0,     ┆ 5         │\n",
              "│         ┆            ┆ 0         ┆ 9776369,  ┆   ┆ 9788666,  ┆ ,         ┆ 4.0, …    ┆           │\n",
              "│         ┆            ┆ 14:27:10  ┆ …         ┆   ┆ …         ┆ 0.578955, ┆ 3.0]      ┆           │\n",
              "│         ┆            ┆           ┆ 9780096]  ┆   ┆ 9788362]  ┆ …         ┆           ┆           │\n",
              "│         ┆            ┆           ┆           ┆   ┆           ┆ 0.59606…  ┆           ┆           │\n",
              "│ 64661   ┆ 141197     ┆ 2023-05-3 ┆ [9775804, ┆ … ┆ [9783042, ┆ [0.33562, ┆ [4.0,     ┆ 5         │\n",
              "│         ┆            ┆ 0         ┆ 9776369,  ┆   ┆ 9787499,  ┆ 0.427443, ┆ 1.0, …    ┆           │\n",
              "│         ┆            ┆ 14:28:28  ┆ …         ┆   ┆ …         ┆ …         ┆ 5.0]      ┆           │\n",
              "│         ┆            ┆           ┆ 9780096]  ┆   ┆ 9780702]  ┆ 0.227597… ┆           ┆           │\n",
              "│ 84583   ┆ 146878     ┆ 2023-05-3 ┆ [9776322, ┆ … ┆ [9785888, ┆ [0.486431 ┆ [2.0,     ┆ 5         │\n",
              "│         ┆            ┆ 0         ┆ 9775983,  ┆   ┆ 9777339,  ┆ ,         ┆ 4.0, …    ┆           │\n",
              "│         ┆            ┆ 14:08:11  ┆ …         ┆   ┆ …         ┆ 0.201564, ┆ 5.0]      ┆           │\n",
              "│         ┆            ┆           ┆ 9779242]  ┆   ┆ 9484153]  ┆ …         ┆           ┆           │\n",
              "│         ┆            ┆           ┆           ┆   ┆           ┆ 0.10033…  ┆           ┆           │\n",
              "│ 84583   ┆ 146884     ┆ 2023-05-3 ┆ [9776322, ┆ … ┆ [9788497, ┆ [0.256722 ┆ [4.0,     ┆ 5         │\n",
              "│         ┆            ┆ 0         ┆ 9775983,  ┆   ┆ 9788552,  ┆ ,         ┆ 3.0, …    ┆           │\n",
              "│         ┆            ┆ 14:03:15  ┆ …         ┆   ┆ …         ┆ 0.305633, ┆ 2.0]      ┆           │\n",
              "│         ┆            ┆           ┆ 9779242]  ┆   ┆ 9788310]  ┆ …         ┆           ┆           │\n",
              "│         ┆            ┆           ┆           ┆   ┆           ┆ 0.39077…  ┆           ┆           │\n",
              "│ 87032   ┆ 147616     ┆ 2023-05-3 ┆ [0, 0, …  ┆ … ┆ [9788183, ┆ [0.329668 ┆ [4.0,     ┆ 5         │\n",
              "│         ┆            ┆ 0         ┆ 9778219]  ┆   ┆ 9788666,  ┆ ,         ┆ 2.0, …    ┆           │\n",
              "│         ┆            ┆ 14:54:58  ┆           ┆   ┆ …         ┆ 0.578005, ┆ 5.0]      ┆           │\n",
              "│         ┆            ┆           ┆           ┆   ┆ 9788188]  ┆ …         ┆           ┆           │\n",
              "│         ┆            ┆           ┆           ┆   ┆           ┆ 0.26050…  ┆           ┆           │\n",
              "└─────────┴────────────┴───────────┴───────────┴───┴───────────┴───────────┴───────────┴───────────┘"
            ],
            "text/html": [
              "<div><style>\n",
              ".dataframe > thead > tr,\n",
              ".dataframe > tbody > tr {\n",
              "  text-align: right;\n",
              "  white-space: pre-wrap;\n",
              "}\n",
              "</style>\n",
              "<small>shape: (10, 11)</small><table border=\"1\" class=\"dataframe\"><thead><tr><th>user_id</th><th>impression_id</th><th>impression_time</th><th>article_id_fixed</th><th>article_ids_clicked</th><th>article_ids_inview</th><th>labels</th><th>article_ids_inview_right</th><th>scores</th><th>ranked_scores</th><th>ranked_length</th></tr><tr><td>u32</td><td>u32</td><td>datetime[μs]</td><td>list[i32]</td><td>list[i32]</td><td>list[i32]</td><td>list[i8]</td><td>list[i32]</td><td>list[f32]</td><td>list[f64]</td><td>u32</td></tr></thead><tbody><tr><td>22548</td><td>96791</td><td>2023-05-28 04:21:24</td><td>[9772629, 9773335, … 9776929]</td><td>[9784696]</td><td>[9784710, 9784696, … 9783865]</td><td>[0, 1, … 0]</td><td>[9784710, 9784696, … 9783865]</td><td>[0.505086, 0.315188, … 0.458161]</td><td>[1.0, 5.0, … 3.0]</td><td>5</td></tr><tr><td>22548</td><td>96808</td><td>2023-05-28 04:27:19</td><td>[9772629, 9773335, … 9776929]</td><td>[9781983]</td><td>[9784406, 9781983, … 9695098]</td><td>[0, 1, … 0]</td><td>[9784406, 9781983, … 9695098]</td><td>[0.275019, 0.357309, … 0.008494]</td><td>[4.0, 2.0, … 5.0]</td><td>5</td></tr><tr><td>22548</td><td>96824</td><td>2023-05-28 04:20:28</td><td>[9772629, 9773335, … 9776929]</td><td>[9784679]</td><td>[9784591, 9784710, … 9784696]</td><td>[0, 0, … 0]</td><td>[9784591, 9784710, … 9784696]</td><td>[0.388156, 0.505086, … 0.315188]</td><td>[4.0, 1.0, … 5.0]</td><td>5</td></tr><tr><td>25554</td><td>97415</td><td>2023-05-28 04:14:32</td><td>[9778769, 9778745, … 9780019]</td><td>[9784662]</td><td>[9783852, 9784559, … 9784662]</td><td>[0, 0, … 1]</td><td>[9783852, 9784559, … 9784662]</td><td>[0.513901, 0.237315, … 0.441586]</td><td>[1.0, 4.0, … 2.0]</td><td>5</td></tr><tr><td>32455</td><td>99431</td><td>2023-05-28 04:56:13</td><td>[9775908, 9776929, … 9779860]</td><td>[9784702]</td><td>[9782884, 9784805, … 9784803]</td><td>[0, 0, … 0]</td><td>[9782884, 9784805, … 9784803]</td><td>[0.22477, 0.419131, … 0.522223]</td><td>[5.0, 3.0, … 2.0]</td><td>5</td></tr><tr><td>64661</td><td>141196</td><td>2023-05-30 14:27:10</td><td>[9775804, 9776369, … 9780096]</td><td>[9788188, 9788362]</td><td>[9788661, 9788666, … 9788362]</td><td>[0, 0, … 1]</td><td>[9788661, 9788666, … 9788362]</td><td>[0.650391, 0.578955, … 0.596065]</td><td>[1.0, 4.0, … 3.0]</td><td>5</td></tr><tr><td>64661</td><td>141197</td><td>2023-05-30 14:28:28</td><td>[9775804, 9776369, … 9780096]</td><td>[9787499]</td><td>[9783042, 9787499, … 9780702]</td><td>[0, 1, … 0]</td><td>[9783042, 9787499, … 9780702]</td><td>[0.33562, 0.427443, … 0.227597]</td><td>[4.0, 1.0, … 5.0]</td><td>5</td></tr><tr><td>84583</td><td>146878</td><td>2023-05-30 14:08:11</td><td>[9776322, 9775983, … 9779242]</td><td>[9785888]</td><td>[9785888, 9777339, … 9484153]</td><td>[1, 0, … 0]</td><td>[9785888, 9777339, … 9484153]</td><td>[0.486431, 0.201564, … 0.100334]</td><td>[2.0, 4.0, … 5.0]</td><td>5</td></tr><tr><td>84583</td><td>146884</td><td>2023-05-30 14:03:15</td><td>[9776322, 9775983, … 9779242]</td><td>[9788497]</td><td>[9788497, 9788552, … 9788310]</td><td>[1, 0, … 0]</td><td>[9788497, 9788552, … 9788310]</td><td>[0.256722, 0.305633, … 0.390776]</td><td>[4.0, 3.0, … 2.0]</td><td>5</td></tr><tr><td>87032</td><td>147616</td><td>2023-05-30 14:54:58</td><td>[0, 0, … 9778219]</td><td>[9787739]</td><td>[9788183, 9788666, … 9788188]</td><td>[0, 0, … 0]</td><td>[9788183, 9788666, … 9788188]</td><td>[0.329668, 0.578005, … 0.260507]</td><td>[4.0, 2.0, … 5.0]</td><td>5</td></tr></tbody></table></div>"
            ]
          },
          "metadata": {},
          "execution_count": 57
        }
      ]
    },
    {
      "cell_type": "code",
      "source": [
        "df_test = df_test.drop(\"ranked_length\")  # Drop ranked_length"
      ],
      "metadata": {
        "id": "7HLk8nNXNfR7"
      },
      "execution_count": null,
      "outputs": []
    },
    {
      "cell_type": "code",
      "execution_count": null,
      "metadata": {
        "colab": {
          "base_uri": "https://localhost:8080/"
        },
        "id": "SzmIuEuVL-hx",
        "outputId": "f7877031-06aa-4421-f9dc-65e0beeb4dc3"
      },
      "outputs": [
        {
          "output_type": "stream",
          "name": "stderr",
          "text": [
            "244647it [00:02, 89537.48it/s]\n"
          ]
        },
        {
          "output_type": "stream",
          "name": "stdout",
          "text": [
            "Zipping /content/drive/MyDrive/EB_project/dump_artifacts/predictions.txt to /content/drive/MyDrive/EB_project/dump_artifacts/ebnerd_small_predictions_new3-NRMSModel.zip\n"
          ]
        }
      ],
      "source": [
        "write_submission_file(\n",
        "    impression_ids=df_test[DEFAULT_IMPRESSION_ID_COL],\n",
        "    prediction_scores=df_test[\"ranked_scores\"],\n",
        "    path=DUMP_DIR.joinpath(\"predictions.txt\"),\n",
        "    filename_zip=f\"{DATASPLIT}_predictions_new3-{MODEL_NAME}.zip\",\n",
        ")\n",
        "\n"
      ]
    }
  ],
  "metadata": {
    "accelerator": "GPU",
    "colab": {
      "collapsed_sections": [
        "qR7IUoFB_bmB",
        "9qtT6WlyL-hx"
      ],
      "gpuType": "A100",
      "machine_shape": "hm",
      "provenance": []
    },
    "kernelspec": {
      "display_name": "Python 3",
      "name": "python3"
    },
    "language_info": {
      "codemirror_mode": {
        "name": "ipython",
        "version": 3
      },
      "file_extension": ".py",
      "mimetype": "text/x-python",
      "name": "python",
      "nbconvert_exporter": "python",
      "pygments_lexer": "ipython3",
      "version": "3.10.13"
    },
    "widgets": {
      "application/vnd.jupyter.widget-state+json": {
        "03414d2b65ed466491f97bd88d029a50": {
          "model_module": "@jupyter-widgets/controls",
          "model_module_version": "1.5.0",
          "model_name": "HTMLModel",
          "state": {
            "_dom_classes": [],
            "_model_module": "@jupyter-widgets/controls",
            "_model_module_version": "1.5.0",
            "_model_name": "HTMLModel",
            "_view_count": null,
            "_view_module": "@jupyter-widgets/controls",
            "_view_module_version": "1.5.0",
            "_view_name": "HTMLView",
            "description": "",
            "description_tooltip": null,
            "layout": "IPY_MODEL_20977750e04b44c299fbba6ba794e4c9",
            "placeholder": "​",
            "style": "IPY_MODEL_5d7ac7fc46964dcbb7f3e6e1a84119f9",
            "value": "glove.6B.zip: 100%"
          }
        },
        "20977750e04b44c299fbba6ba794e4c9": {
          "model_module": "@jupyter-widgets/base",
          "model_module_version": "1.2.0",
          "model_name": "LayoutModel",
          "state": {
            "_model_module": "@jupyter-widgets/base",
            "_model_module_version": "1.2.0",
            "_model_name": "LayoutModel",
            "_view_count": null,
            "_view_module": "@jupyter-widgets/base",
            "_view_module_version": "1.2.0",
            "_view_name": "LayoutView",
            "align_content": null,
            "align_items": null,
            "align_self": null,
            "border": null,
            "bottom": null,
            "display": null,
            "flex": null,
            "flex_flow": null,
            "grid_area": null,
            "grid_auto_columns": null,
            "grid_auto_flow": null,
            "grid_auto_rows": null,
            "grid_column": null,
            "grid_gap": null,
            "grid_row": null,
            "grid_template_areas": null,
            "grid_template_columns": null,
            "grid_template_rows": null,
            "height": null,
            "justify_content": null,
            "justify_items": null,
            "left": null,
            "margin": null,
            "max_height": null,
            "max_width": null,
            "min_height": null,
            "min_width": null,
            "object_fit": null,
            "object_position": null,
            "order": null,
            "overflow": null,
            "overflow_x": null,
            "overflow_y": null,
            "padding": null,
            "right": null,
            "top": null,
            "visibility": null,
            "width": null
          }
        },
        "2120ef4d3a384c0088267390e934943c": {
          "model_module": "@jupyter-widgets/controls",
          "model_module_version": "1.5.0",
          "model_name": "HTMLModel",
          "state": {
            "_dom_classes": [],
            "_model_module": "@jupyter-widgets/controls",
            "_model_module_version": "1.5.0",
            "_model_name": "HTMLModel",
            "_view_count": null,
            "_view_module": "@jupyter-widgets/controls",
            "_view_module_version": "1.5.0",
            "_view_name": "HTMLView",
            "description": "",
            "description_tooltip": null,
            "layout": "IPY_MODEL_51a66f724fbe47669e04de2c820327ce",
            "placeholder": "​",
            "style": "IPY_MODEL_759b4062c58d466389129e6e82523736",
            "value": " 862M/862M [00:17&lt;00:00, 34.5MB/s]"
          }
        },
        "3086391eac7642dabf688693c44002a4": {
          "model_module": "@jupyter-widgets/controls",
          "model_module_version": "1.5.0",
          "model_name": "HBoxModel",
          "state": {
            "_dom_classes": [],
            "_model_module": "@jupyter-widgets/controls",
            "_model_module_version": "1.5.0",
            "_model_name": "HBoxModel",
            "_view_count": null,
            "_view_module": "@jupyter-widgets/controls",
            "_view_module_version": "1.5.0",
            "_view_name": "HBoxView",
            "box_style": "",
            "children": [
              "IPY_MODEL_03414d2b65ed466491f97bd88d029a50",
              "IPY_MODEL_adb3bef105d3455c93fbc1db7d5e9d5c",
              "IPY_MODEL_2120ef4d3a384c0088267390e934943c"
            ],
            "layout": "IPY_MODEL_56a6e0e0e833423aaf38700a5667544c"
          }
        },
        "51a66f724fbe47669e04de2c820327ce": {
          "model_module": "@jupyter-widgets/base",
          "model_module_version": "1.2.0",
          "model_name": "LayoutModel",
          "state": {
            "_model_module": "@jupyter-widgets/base",
            "_model_module_version": "1.2.0",
            "_model_name": "LayoutModel",
            "_view_count": null,
            "_view_module": "@jupyter-widgets/base",
            "_view_module_version": "1.2.0",
            "_view_name": "LayoutView",
            "align_content": null,
            "align_items": null,
            "align_self": null,
            "border": null,
            "bottom": null,
            "display": null,
            "flex": null,
            "flex_flow": null,
            "grid_area": null,
            "grid_auto_columns": null,
            "grid_auto_flow": null,
            "grid_auto_rows": null,
            "grid_column": null,
            "grid_gap": null,
            "grid_row": null,
            "grid_template_areas": null,
            "grid_template_columns": null,
            "grid_template_rows": null,
            "height": null,
            "justify_content": null,
            "justify_items": null,
            "left": null,
            "margin": null,
            "max_height": null,
            "max_width": null,
            "min_height": null,
            "min_width": null,
            "object_fit": null,
            "object_position": null,
            "order": null,
            "overflow": null,
            "overflow_x": null,
            "overflow_y": null,
            "padding": null,
            "right": null,
            "top": null,
            "visibility": null,
            "width": null
          }
        },
        "56a6e0e0e833423aaf38700a5667544c": {
          "model_module": "@jupyter-widgets/base",
          "model_module_version": "1.2.0",
          "model_name": "LayoutModel",
          "state": {
            "_model_module": "@jupyter-widgets/base",
            "_model_module_version": "1.2.0",
            "_model_name": "LayoutModel",
            "_view_count": null,
            "_view_module": "@jupyter-widgets/base",
            "_view_module_version": "1.2.0",
            "_view_name": "LayoutView",
            "align_content": null,
            "align_items": null,
            "align_self": null,
            "border": null,
            "bottom": null,
            "display": null,
            "flex": null,
            "flex_flow": null,
            "grid_area": null,
            "grid_auto_columns": null,
            "grid_auto_flow": null,
            "grid_auto_rows": null,
            "grid_column": null,
            "grid_gap": null,
            "grid_row": null,
            "grid_template_areas": null,
            "grid_template_columns": null,
            "grid_template_rows": null,
            "height": null,
            "justify_content": null,
            "justify_items": null,
            "left": null,
            "margin": null,
            "max_height": null,
            "max_width": null,
            "min_height": null,
            "min_width": null,
            "object_fit": null,
            "object_position": null,
            "order": null,
            "overflow": null,
            "overflow_x": null,
            "overflow_y": null,
            "padding": null,
            "right": null,
            "top": null,
            "visibility": null,
            "width": null
          }
        },
        "5d7ac7fc46964dcbb7f3e6e1a84119f9": {
          "model_module": "@jupyter-widgets/controls",
          "model_module_version": "1.5.0",
          "model_name": "DescriptionStyleModel",
          "state": {
            "_model_module": "@jupyter-widgets/controls",
            "_model_module_version": "1.5.0",
            "_model_name": "DescriptionStyleModel",
            "_view_count": null,
            "_view_module": "@jupyter-widgets/base",
            "_view_module_version": "1.2.0",
            "_view_name": "StyleView",
            "description_width": ""
          }
        },
        "759b4062c58d466389129e6e82523736": {
          "model_module": "@jupyter-widgets/controls",
          "model_module_version": "1.5.0",
          "model_name": "DescriptionStyleModel",
          "state": {
            "_model_module": "@jupyter-widgets/controls",
            "_model_module_version": "1.5.0",
            "_model_name": "DescriptionStyleModel",
            "_view_count": null,
            "_view_module": "@jupyter-widgets/base",
            "_view_module_version": "1.2.0",
            "_view_name": "StyleView",
            "description_width": ""
          }
        },
        "84e1028745924af29e79f1c4611a77fc": {
          "model_module": "@jupyter-widgets/controls",
          "model_module_version": "1.5.0",
          "model_name": "ProgressStyleModel",
          "state": {
            "_model_module": "@jupyter-widgets/controls",
            "_model_module_version": "1.5.0",
            "_model_name": "ProgressStyleModel",
            "_view_count": null,
            "_view_module": "@jupyter-widgets/base",
            "_view_module_version": "1.2.0",
            "_view_name": "StyleView",
            "bar_color": null,
            "description_width": ""
          }
        },
        "adb3bef105d3455c93fbc1db7d5e9d5c": {
          "model_module": "@jupyter-widgets/controls",
          "model_module_version": "1.5.0",
          "model_name": "FloatProgressModel",
          "state": {
            "_dom_classes": [],
            "_model_module": "@jupyter-widgets/controls",
            "_model_module_version": "1.5.0",
            "_model_name": "FloatProgressModel",
            "_view_count": null,
            "_view_module": "@jupyter-widgets/controls",
            "_view_module_version": "1.5.0",
            "_view_name": "ProgressView",
            "bar_style": "success",
            "description": "",
            "description_tooltip": null,
            "layout": "IPY_MODEL_e2d9bf4f74c1424386102056dc9a4672",
            "max": 862182753,
            "min": 0,
            "orientation": "horizontal",
            "style": "IPY_MODEL_84e1028745924af29e79f1c4611a77fc",
            "value": 862182753
          }
        },
        "e2d9bf4f74c1424386102056dc9a4672": {
          "model_module": "@jupyter-widgets/base",
          "model_module_version": "1.2.0",
          "model_name": "LayoutModel",
          "state": {
            "_model_module": "@jupyter-widgets/base",
            "_model_module_version": "1.2.0",
            "_model_name": "LayoutModel",
            "_view_count": null,
            "_view_module": "@jupyter-widgets/base",
            "_view_module_version": "1.2.0",
            "_view_name": "LayoutView",
            "align_content": null,
            "align_items": null,
            "align_self": null,
            "border": null,
            "bottom": null,
            "display": null,
            "flex": null,
            "flex_flow": null,
            "grid_area": null,
            "grid_auto_columns": null,
            "grid_auto_flow": null,
            "grid_auto_rows": null,
            "grid_column": null,
            "grid_gap": null,
            "grid_row": null,
            "grid_template_areas": null,
            "grid_template_columns": null,
            "grid_template_rows": null,
            "height": null,
            "justify_content": null,
            "justify_items": null,
            "left": null,
            "margin": null,
            "max_height": null,
            "max_width": null,
            "min_height": null,
            "min_width": null,
            "object_fit": null,
            "object_position": null,
            "order": null,
            "overflow": null,
            "overflow_x": null,
            "overflow_y": null,
            "padding": null,
            "right": null,
            "top": null,
            "visibility": null,
            "width": null
          }
        }
      }
    }
  },
  "nbformat": 4,
  "nbformat_minor": 0
}